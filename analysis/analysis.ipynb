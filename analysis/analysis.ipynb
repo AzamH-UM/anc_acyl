{
 "cells": [
  {
   "cell_type": "markdown",
   "metadata": {},
   "source": [
    "# Analyze docking and molecular dynamics results and generate figure plots"
   ]
  },
  {
   "cell_type": "markdown",
   "metadata": {},
   "source": [
    "## Imports and Constants"
   ]
  },
  {
   "cell_type": "code",
   "execution_count": 14,
   "metadata": {},
   "outputs": [],
   "source": [
    "from collections import defaultdict"
   ]
  },
  {
   "cell_type": "code",
   "execution_count": 15,
   "metadata": {},
   "outputs": [],
   "source": [
    "# List of proteins\n",
    "PROTEINS = [\n",
    "    \"anc451\",\n",
    "    \"anc452\",\n",
    "    \"anc454\",\n",
    "    \"caze\",\n",
    "]\n",
    "\n",
    "# Protein segname\n",
    "PROT_SEGNAME = \"PROA\"\n",
    "\n",
    "# 5CThioester resname and segname\n",
    "C5_RESNAME = \"5CT\"\n",
    "C5_SEGNAME = \"5CT1\"\n",
    "\n",
    "# Ancestor substrate resname and segname\n",
    "ANC_RESNAME = \"ANC\"\n",
    "ANC_SEGNAME = \"ANC1\""
   ]
  },
  {
   "cell_type": "markdown",
   "metadata": {},
   "source": [
    "## Docking Analysis"
   ]
  },
  {
   "cell_type": "code",
   "execution_count": 16,
   "metadata": {},
   "outputs": [],
   "source": [
    "def get_top_cluster_poses(dockresult_dir):\n",
    "    \"\"\"Retrieve the top clustered ligand poses from the docking result directory.\"\"\""
   ]
  },
  {
   "cell_type": "code",
   "execution_count": 17,
   "metadata": {},
   "outputs": [],
   "source": [
    "# Retrieve receptor structures used for docking\n",
    "dock_receptors = [\n",
    "    f\"../add_5cthioester/5cthioester/{protein}_5cthioester.pdb\" for protein in PROTEINS\n",
    "]\n",
    "\n",
    "# Retrieve ligand poses for each docking strategy\n",
    "strategies = [\"rcdocker\", \"fcdocker\", \"fcdocker_flexible_5cthioester\"]\n",
    "\n",
    "ligand_poses = defaultdict(dict)\n",
    "for strategy in strategies:\n",
    "    strategy_dir = f\"../{strategy}/{strategy}_results\"\n",
    "    for protein in PROTEINS:\n",
    "        dockresult_dir = (\n",
    "            f\"{strategy_dir}/{protein}_5cthioester_anc_substrate/dockresult\"\n",
    "        )\n",
    "\n",
    "        ligand_poses[strategy][protein] = get_top_cluster_poses(dockresult_dir)\n",
    "\n",
    "        break\n",
    "\n",
    "    break"
   ]
  },
  {
   "cell_type": "code",
   "execution_count": null,
   "metadata": {},
   "outputs": [],
   "source": []
  }
 ],
 "metadata": {
  "kernelspec": {
   "display_name": "acyl",
   "language": "python",
   "name": "acyl"
  },
  "language_info": {
   "codemirror_mode": {
    "name": "ipython",
    "version": 3
   },
   "file_extension": ".py",
   "mimetype": "text/x-python",
   "name": "python",
   "nbconvert_exporter": "python",
   "pygments_lexer": "ipython3",
   "version": "3.11.0"
  }
 },
 "nbformat": 4,
 "nbformat_minor": 2
}
